{
 "cells": [
  {
   "cell_type": "markdown",
   "id": "db25b018-13cb-412f-84d1-3f53e76bd317",
   "metadata": {},
   "source": [
    "Independent Lab Lewis Hughes Intro to Python 4/21/25"
   ]
  },
  {
   "cell_type": "markdown",
   "id": "8401a641-fba6-4a01-aa22-973a1ca06589",
   "metadata": {},
   "source": [
    "In this assignment I am performing an analysis of turnover in GitHub projects. Here, I will rename columns and do some data wrangling "
   ]
  },
  {
   "cell_type": "markdown",
   "id": "fdfefd52-5cd3-410f-98bd-690ecfd61c9f",
   "metadata": {},
   "source": [
    "Importing Libraries"
   ]
  },
  {
   "cell_type": "code",
   "execution_count": 1,
   "id": "484fa564-91bb-47e9-be42-0db2a61cfa83",
   "metadata": {},
   "outputs": [],
   "source": [
    "import pandas as pd"
   ]
  },
  {
   "cell_type": "markdown",
   "id": "c1d3f24d-dbfc-40a6-87a0-09a613bb6fd6",
   "metadata": {},
   "source": [
    "Loading dataset"
   ]
  },
  {
   "cell_type": "code",
   "execution_count": 4,
   "id": "5afb3715-082e-437b-ad48-13d0accc188e",
   "metadata": {},
   "outputs": [],
   "source": [
    "git_turnover_df = pd.read_csv(\"data/gh_turnover_four_projects.csv\")"
   ]
  },
  {
   "cell_type": "markdown",
   "id": "3d67b2f7-e8ca-4c58-b5e8-ff5d883dbd4f",
   "metadata": {},
   "source": [
    "Renaming Columns"
   ]
  },
  {
   "cell_type": "code",
   "execution_count": 5,
   "id": "80d0e193-063c-4c4d-872c-3b09514d0cd9",
   "metadata": {},
   "outputs": [],
   "source": [
    "git_turnover_df.rename(columns={\n",
    "    \"domain\": \"project_domain\",\n",
    "    \"language\": \"project_language\",\n",
    "    \"windows\": \"project_age\",\n",
    "    \"window_idx\": \"quarter\",\n",
    "    \"num_team\": \"team_size\",\n",
    "    \"num_commits\": \"project_commits\",\n",
    "    \"blau_gender\": \"gender_blau\",\n",
    "    \"Gini_gh_ten\": \"gh_tenure_gini\",\n",
    "    \"Core1\": \"core_dev\",\n",
    "    \"commits\": \"user_commits\",\n",
    "    \"propCommits\": \"commit_proportion\",\n",
    "    \"github_tenure\": \"gh_tenure\",\n",
    "    \"leavesNextQ\": \"leaves_next_q\"\n",
    "}, inplace=True)"
   ]
  },
  {
   "cell_type": "markdown",
   "id": "b464328a-7703-4c56-ba6f-764f4e111229",
   "metadata": {},
   "source": [
    "Data Wrangling"
   ]
  },
  {
   "cell_type": "markdown",
   "id": "3c1300f7-6357-4f99-86ce-7574fe2c88c7",
   "metadata": {},
   "source": [
    "1. Calculate the mean of user_commits"
   ]
  },
  {
   "cell_type": "code",
   "execution_count": 6,
   "id": "11376067-0ee2-4ec3-b58d-4d5f8f1dfc7c",
   "metadata": {},
   "outputs": [
    {
     "name": "stdout",
     "output_type": "stream",
     "text": [
      "1. Mean of user_commits: 339.36575052854124\n"
     ]
    }
   ],
   "source": [
    "mean_user_commits = git_turnover_df[\"user_commits\"].mean()\n",
    "print(\"1. Mean of user_commits:\", mean_user_commits)"
   ]
  },
  {
   "cell_type": "markdown",
   "id": "1d08dab0-4913-4e2b-9901-788ded67dac4",
   "metadata": {},
   "source": [
    "2. Calculate the median of user_commits"
   ]
  },
  {
   "cell_type": "code",
   "execution_count": 7,
   "id": "3296e53b-6a87-4176-8f77-5bed984a5e0d",
   "metadata": {},
   "outputs": [
    {
     "name": "stdout",
     "output_type": "stream",
     "text": [
      "2. Median of user_commits: 18.0\n"
     ]
    }
   ],
   "source": [
    "median_user_commits = git_turnover_df[\"user_commits\"].median()\n",
    "print(\"2. Median of user_commits:\", median_user_commits)"
   ]
  },
  {
   "cell_type": "markdown",
   "id": "6e808592-8d2b-423f-88c6-363cc6c385b7",
   "metadata": {},
   "source": [
    "3. Select columns that start with 'p' or contain 'g'"
   ]
  },
  {
   "cell_type": "code",
   "execution_count": 8,
   "id": "5deeab46-2776-4ef9-8399-ef6788aec19b",
   "metadata": {},
   "outputs": [
    {
     "name": "stdout",
     "output_type": "stream",
     "text": [
      "3. Columns starting with 'p' or containing 'g':\n",
      "   project_id project_domain project_language  project_age  project_commits  \\\n",
      "0        1101          OTHER           Python           23            22688   \n",
      "1        1101          OTHER           Python           23            22688   \n",
      "2        1101          OTHER           Python           23            22688   \n",
      "3        1101          OTHER           Python           23            22688   \n",
      "4        1101          OTHER           Python           23            22688   \n",
      "\n",
      "   gender_blau  gh_tenure_gini gender  gh_tenure  \n",
      "0          0.0        0.422259   male        426  \n",
      "1          0.0        0.422259   male         46  \n",
      "2          0.0        0.422259   male        941  \n",
      "3          0.0        0.422259   male       1870  \n",
      "4          0.0        0.422259   male        781  \n"
     ]
    }
   ],
   "source": [
    "turnover_new = git_turnover_df.filter(regex='(^p)|(g)')\n",
    "print(\"3. Columns starting with 'p' or containing 'g':\")\n",
    "print(turnover_new.head())"
   ]
  },
  {
   "cell_type": "markdown",
   "id": "52cbdba8-44c8-4007-941b-48f1463487e4",
   "metadata": {},
   "source": [
    "4. Filter rows where project_commits > 9000"
   ]
  },
  {
   "cell_type": "code",
   "execution_count": 9,
   "id": "1e91b14c-acb0-4e96-8a06-6bd77345f6a0",
   "metadata": {},
   "outputs": [
    {
     "name": "stdout",
     "output_type": "stream",
     "text": [
      "4. turnover_new where project_commits > 9000:\n",
      "   project_id project_domain project_language  project_age  project_commits  \\\n",
      "0        1101          OTHER           Python           23            22688   \n",
      "1        1101          OTHER           Python           23            22688   \n",
      "2        1101          OTHER           Python           23            22688   \n",
      "3        1101          OTHER           Python           23            22688   \n",
      "4        1101          OTHER           Python           23            22688   \n",
      "\n",
      "   gender_blau  gh_tenure_gini gender  gh_tenure  \n",
      "0          0.0        0.422259   male        426  \n",
      "1          0.0        0.422259   male         46  \n",
      "2          0.0        0.422259   male        941  \n",
      "3          0.0        0.422259   male       1870  \n",
      "4          0.0        0.422259   male        781  \n"
     ]
    }
   ],
   "source": [
    "turnover_new_filtered = turnover_new[turnover_new[\"project_commits\"] > 9000]\n",
    "print(\"4. turnover_new where project_commits > 9000:\")\n",
    "print(turnover_new_filtered.head())"
   ]
  },
  {
   "cell_type": "markdown",
   "id": "0e490510-de67-4a78-b7a7-ca814489a4f5",
   "metadata": {},
   "source": [
    "5. Combine 3 and 4 using piping"
   ]
  },
  {
   "cell_type": "code",
   "execution_count": 10,
   "id": "18a691d2-053e-4973-a2c3-ce4eed21093a",
   "metadata": {},
   "outputs": [
    {
     "name": "stdout",
     "output_type": "stream",
     "text": [
      "5. turnover_newer using piping:\n",
      "   project_id project_domain project_language  project_age  project_commits  \\\n",
      "0        1101          OTHER           Python           23            22688   \n",
      "1        1101          OTHER           Python           23            22688   \n",
      "2        1101          OTHER           Python           23            22688   \n",
      "3        1101          OTHER           Python           23            22688   \n",
      "4        1101          OTHER           Python           23            22688   \n",
      "\n",
      "   gender_blau  gh_tenure_gini gender  gh_tenure  \n",
      "0          0.0        0.422259   male        426  \n",
      "1          0.0        0.422259   male         46  \n",
      "2          0.0        0.422259   male        941  \n",
      "3          0.0        0.422259   male       1870  \n",
      "4          0.0        0.422259   male        781  \n"
     ]
    }
   ],
   "source": [
    "turnover_newer = (\n",
    "    git_turnover_df\n",
    "    .filter(regex='(^p)|(g)')\n",
    "    .query(\"project_commits > 9000\")\n",
    ")\n",
    "print(\"5. turnover_newer using piping:\")\n",
    "print(turnover_newer.head())"
   ]
  },
  {
   "cell_type": "markdown",
   "id": "55215359-490d-4bf8-b4c6-1e43e26af96b",
   "metadata": {},
   "source": [
    "6. Select columns ending with 'e' or containing 's' and filter gh_tenure >= 1991"
   ]
  },
  {
   "cell_type": "code",
   "execution_count": 11,
   "id": "d74f2b59-487a-4e3c-a2e3-0fb1f2796824",
   "metadata": {},
   "outputs": [
    {
     "name": "stdout",
     "output_type": "stream",
     "text": [
      "6. Filtered DataFrame (columns ending in 'e' or containing 's', gh_tenure >= 1991):\n",
      "    project_language  project_age  team_size  project_commits  user_id  \\\n",
      "339             Java           16          2                7    33272   \n",
      "457           Python           23         20             3070    88459   \n",
      "\n",
      "     user_commits  gh_tenure  leaves_next_q  \n",
      "339             6       2006              0  \n",
      "457             1       2054              0  \n"
     ]
    }
   ],
   "source": [
    "filtered_df = (\n",
    "    git_turnover_df\n",
    "    .filter(regex='(e$)|(s)')\n",
    "    .loc[lambda d: d[\"gh_tenure\"] >= 1991]\n",
    ")\n",
    "print(\"6. Filtered DataFrame (columns ending in 'e' or containing 's', gh_tenure >= 1991):\")\n",
    "print(filtered_df.head())"
   ]
  },
  {
   "cell_type": "markdown",
   "id": "5a82aa30-0071-4ec2-9491-bbc237204688",
   "metadata": {},
   "source": [
    "7. Mean and median of user_commits from filtered_df"
   ]
  },
  {
   "cell_type": "code",
   "execution_count": 12,
   "id": "23a0491c-d22c-4f5e-8d98-c75c54a90955",
   "metadata": {},
   "outputs": [
    {
     "name": "stdout",
     "output_type": "stream",
     "text": [
      "7. Mean of user_commits (filtered): 3.5\n",
      "7. Median of user_commits (filtered): 3.5\n"
     ]
    }
   ],
   "source": [
    "mean_filtered_commits = filtered_df[\"user_commits\"].mean()\n",
    "median_filtered_commits = filtered_df[\"user_commits\"].median()\n",
    "print(\"7. Mean of user_commits (filtered):\", mean_filtered_commits)\n",
    "print(\"7. Median of user_commits (filtered):\", median_filtered_commits)"
   ]
  },
  {
   "cell_type": "markdown",
   "id": "343156ef-869e-46d8-8b49-9d46cde1b897",
   "metadata": {},
   "source": [
    "Refrences"
   ]
  },
  {
   "cell_type": "markdown",
   "id": "639fd2c0-ae75-4daa-9f2b-9ed39c1fbd85",
   "metadata": {},
   "source": [
    "https://pandas.pydata.org/pandas-docs/stable/reference/api/pandas.DataFrame.loc.htm\n",
    "\n",
    "I used this pandas website to help with my .loc[] function\n",
    "\n",
    "https://stackoverflow.com/questions/72998419/in-pandas-how-can-i-filter-for-rows-where-all-values-are-higher-than-a-certain\n",
    "\n",
    "I used this stack overflow conversation to help with my filter function"
   ]
  }
 ],
 "metadata": {
  "kernelspec": {
   "display_name": "Python 3 (ipykernel)",
   "language": "python",
   "name": "python3"
  },
  "language_info": {
   "codemirror_mode": {
    "name": "ipython",
    "version": 3
   },
   "file_extension": ".py",
   "mimetype": "text/x-python",
   "name": "python",
   "nbconvert_exporter": "python",
   "pygments_lexer": "ipython3",
   "version": "3.13.2"
  }
 },
 "nbformat": 4,
 "nbformat_minor": 5
}
