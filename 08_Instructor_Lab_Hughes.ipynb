{
 "cells": [
  {
   "cell_type": "markdown",
   "id": "5d6455a9-e9a3-40ce-87a1-f0e324632018",
   "metadata": {},
   "source": [
    "Instructor Led Lab"
   ]
  },
  {
   "cell_type": "markdown",
   "id": "4c11feb3-faf8-40bb-a349-338c80cef972",
   "metadata": {},
   "source": [
    "Lewis Hughes \n",
    "Intro to Python\n",
    "4/21/25"
   ]
  },
  {
   "cell_type": "code",
   "execution_count": 4,
   "id": "e86e161d-b39e-478b-b53d-edd2b7a0bfe5",
   "metadata": {},
   "outputs": [],
   "source": [
    "# Importing libraries \n",
    "import pandas as pd\n",
    "import os"
   ]
  },
  {
   "cell_type": "code",
   "execution_count": 5,
   "id": "0f97141f-7339-46c7-8918-ca0001ea403b",
   "metadata": {},
   "outputs": [],
   "source": [
    "#Setting Working Directory \n",
    "os.chdir(\"/Users/lewishughes/Desktop/GitHub/week2labs/week8labs\")"
   ]
  },
  {
   "cell_type": "code",
   "execution_count": 8,
   "id": "63394c8c-5d42-48b7-861d-6ceb7ba1eba2",
   "metadata": {},
   "outputs": [],
   "source": [
    "#Importing Dataset\n",
    "git_teams = pd.read_csv(\"data/github_teams.csv\")"
   ]
  },
  {
   "cell_type": "markdown",
   "id": "04dd12cd-644b-4348-9f3e-5805eb99afb1",
   "metadata": {},
   "source": [
    "1. Selecting specific columns"
   ]
  },
  {
   "cell_type": "code",
   "execution_count": 15,
   "id": "fb45a583-2be7-40f8-9198-3b82e4b5cc9b",
   "metadata": {},
   "outputs": [
    {
     "name": "stdout",
     "output_type": "stream",
     "text": [
      "\n",
      "1. Selected Columns:\n",
      "   Team_type  human_work  work_per_human\n",
      "0  human-bot          66       33.000000\n",
      "1      human          62       31.000000\n",
      "2      human         211       30.142857\n",
      "3  human-bot       14579       62.303419\n",
      "4  human-bot        1625       42.763158\n"
     ]
    }
   ],
   "source": [
    "git_teams_selected = (\n",
    "    git_teams\n",
    "    .pipe(lambda d: d[[\"Team_type\", \"human_work\", \"work_per_human\"]])\n",
    ")\n",
    "print(\"\\n1. Selected Columns:\")\n",
    "print(git_teams_selected.head())"
   ]
  },
  {
   "cell_type": "markdown",
   "id": "5408849d-7390-49e0-adf8-74a56625ee12",
   "metadata": {},
   "source": [
    "2. Selecting columns ending in \"t\""
   ]
  },
  {
   "cell_type": "code",
   "execution_count": 16,
   "id": "5ca1d9d2-9a09-41fa-9463-f73342060fdf",
   "metadata": {},
   "outputs": [
    {
     "name": "stdout",
     "output_type": "stream",
     "text": [
      "\n",
      "2. Columns Ending in 't':\n",
      "   human_members_count  bot_members_count  human_PRReviewComment  \\\n",
      "0                    2                  1                      4   \n",
      "1                    2                  0                      0   \n",
      "2                    7                  0                      1   \n",
      "3                  234                 12                   1170   \n",
      "4                   38                  8                    152   \n",
      "\n",
      "   bot_PRReviewComment  issues_count  \n",
      "0                    0           8.0  \n",
      "1                    0           NaN  \n",
      "2                    0          46.0  \n",
      "3                    0        4757.0  \n",
      "4                    0         777.0  \n"
     ]
    }
   ],
   "source": [
    "git_teams_t_cols = git_teams.filter(regex=\"t$\")\n",
    "print(\"\\n2. Columns Ending in 't':\")\n",
    "print(git_teams_t_cols.head())"
   ]
  },
  {
   "cell_type": "markdown",
   "id": "5a82c629-4ac2-4762-ab09-42eee7632709",
   "metadata": {},
   "source": [
    "3. Sort by multiple columns in decending order"
   ]
  },
  {
   "cell_type": "code",
   "execution_count": 17,
   "id": "6be26517-276e-4394-8d82-ff2b92c7b928",
   "metadata": {},
   "outputs": [
    {
     "name": "stdout",
     "output_type": "stream",
     "text": [
      "\n",
      "3. Sorted Data:\n",
      "                                            name_h  Team_type Team_size_class  \\\n",
      "559  WLaEz_1Nf-YWzHZa8bBgAA/pLoAhZ1cbPT38VYoSdXGmg      human           Small   \n",
      "209  eIPosZ68E2LjtaixYK65EQ/0Rp6D1ZR1w4YspfD1H-PfA  human-bot           Small   \n",
      "410  pxIFRbeuXsUzHtQB3vDwVA/JlkO4fgLE3bD5QjXcU-0CQ  human-bot           Small   \n",
      "268  hXoZRbHPbVxh--funPXSiw/iNU0l_SpKVjGfHOp8vUt8w  human-bot           Small   \n",
      "603  zTj5tlMWgotzJmQl7BP8wQ/iQ914_smScbUO8BI9JlE6A  human-bot           Small   \n",
      "\n",
      "     human_members_count  bot_members_count  human_work  work_per_human  \\\n",
      "559                    3                  0        3040     1013.333333   \n",
      "209                    3                  1        1639      546.333333   \n",
      "410                    3                  1         913      304.333333   \n",
      "268                    2                  2         910      455.000000   \n",
      "603                    3                  1         855      285.000000   \n",
      "\n",
      "     human_gini  human_Push  human_IssueComments  human_PRReviewComment  \\\n",
      "559    0.292105         434                 2606                      0   \n",
      "209    0.413260        1114                  283                    223   \n",
      "410    0.549836         130                  507                    271   \n",
      "268    0.065934         207                  369                    334   \n",
      "603    0.474854         423                   59                    373   \n",
      "\n",
      "     human_MergedPR  bot_work  bot_Push  bot_IssueComments  \\\n",
      "559               0         0         0                  0   \n",
      "209              19       156         0                156   \n",
      "410               5        53         0                 53   \n",
      "268               0       114         0                114   \n",
      "603               0        26         0                 26   \n",
      "\n",
      "     bot_PRReviewComment  bot_MergedPR  eval_survival_day_median  issues_count  \n",
      "559                    0             0                       3.0         365.0  \n",
      "209                    0             0                      21.0         204.0  \n",
      "410                    0             0                      50.0         108.0  \n",
      "268                    0             0                       4.0          64.0  \n",
      "603                    0             0                       NaN           NaN  \n"
     ]
    }
   ],
   "source": [
    "git_teams_sorted = (\n",
    "    git_teams\n",
    "    .sort_values(by=[\"Team_size_class\", \"human_work\", \"work_per_human\"], ascending=False)\n",
    ")\n",
    "print(\"\\n3. Sorted Data:\")\n",
    "print(git_teams_sorted.head())"
   ]
  },
  {
   "cell_type": "markdown",
   "id": "c470824b-4523-44cb-a657-f5e0dc09feee",
   "metadata": {},
   "source": [
    "4. Filter for human-bot teams with bot_members_count >= 3"
   ]
  },
  {
   "cell_type": "code",
   "execution_count": 18,
   "id": "08e9a4d6-10a3-494f-a32f-7cfaf5409e4d",
   "metadata": {},
   "outputs": [
    {
     "name": "stdout",
     "output_type": "stream",
     "text": [
      "\n",
      "4. Human-bot Teams with bot_members_count >= 3:\n",
      "                                           name_h  Team_type Team_size_class  \\\n",
      "3   _l5u7I5p4thtW5SjR_9_4w/aZNCdVXta7fh7eCMzZP1CA  human-bot           Large   \n",
      "4   _l5u7I5p4thtW5SjR_9_4w/m_FpD7PKQHqVXHn2bh7u2g  human-bot           Large   \n",
      "89  5Is-_ie16OEGmW1arZm8qg/8UeSk2P76pTG7pPLtxsHTQ  human-bot           Large   \n",
      "\n",
      "    human_members_count  bot_members_count  human_work  work_per_human  \\\n",
      "3                   234                 12       14579       62.303419   \n",
      "4                    38                  8        1625       42.763158   \n",
      "89                   17                  4        7412      436.000000   \n",
      "\n",
      "    human_gini  human_Push  human_IssueComments  human_PRReviewComment  \\\n",
      "3     0.738342        1942                11430                   1170   \n",
      "4     0.666607         203                 1270                    152   \n",
      "89    0.439621        4182                 1257                   1917   \n",
      "\n",
      "    human_MergedPR  bot_work  bot_Push  bot_IssueComments  \\\n",
      "3               37      1972         0               1972   \n",
      "4                0       302         0                302   \n",
      "89              56       358         5                202   \n",
      "\n",
      "    bot_PRReviewComment  bot_MergedPR  eval_survival_day_median  issues_count  \n",
      "3                     0             0                       1.0        4757.0  \n",
      "4                     0             0                       2.0         777.0  \n",
      "89                  151             0                       2.0         495.0  \n"
     ]
    }
   ],
   "source": [
    "git_teams_human_bot = (\n",
    "    git_teams\n",
    "    .query(\"Team_type == 'human-bot' and bot_members_count >= 3\")\n",
    ")\n",
    "print(\"\\n4. Human-bot Teams with bot_members_count >= 3:\")\n",
    "print(git_teams_human_bot.head())"
   ]
  },
  {
   "cell_type": "markdown",
   "id": "4a86528b-d090-44d2-8450-24a97ebce082",
   "metadata": {},
   "source": [
    "5. Filter for human teams that are Large and human_gini >= 0.75"
   ]
  },
  {
   "cell_type": "code",
   "execution_count": 19,
   "id": "0e2954ad-8ee4-4ec5-a866-b2beaf3df666",
   "metadata": {},
   "outputs": [
    {
     "name": "stdout",
     "output_type": "stream",
     "text": [
      "\n",
      "5. Large Human Teams with human_gini >= 0.75:\n"
     ]
    }
   ],
   "source": [
    "git_teams_large_high_gini = (\n",
    "    git_teams\n",
    "    .query(\"Team_type == 'human' and Team_size_class == 'Large' and human_gini >= 0.75\")\n",
    ")\n",
    "print(\"\\n5. Large Human Teams with human_gini >= 0.75:\")"
   ]
  },
  {
   "cell_type": "markdown",
   "id": "52a14766-bfd3-46a5-ad08-c0c025853020",
   "metadata": {},
   "source": [
    "6. Count of teams in Small or Large category"
   ]
  },
  {
   "cell_type": "code",
   "execution_count": 20,
   "id": "8335e668-2434-45fd-be9d-83e1ce1fd094",
   "metadata": {},
   "outputs": [
    {
     "name": "stdout",
     "output_type": "stream",
     "text": [
      "\n",
      "6. Count of Small or Large Teams: 428\n"
     ]
    }
   ],
   "source": [
    "count_small_large = git_teams[git_teams[\"Team_size_class\"].isin([\"Small\", \"Large\"])].shape[0]\n",
    "print(\"\\n6. Count of Small or Large Teams:\", count_small_large)"
   ]
  },
  {
   "cell_type": "markdown",
   "id": "eae9731f-2fbf-440e-aa8e-bc3757402650",
   "metadata": {},
   "source": [
    "7. Count with Small or Large and human_gini <= 0.25"
   ]
  },
  {
   "cell_type": "code",
   "execution_count": 21,
   "id": "3ce52083-97e0-4aac-b4b6-15c68dc0331f",
   "metadata": {},
   "outputs": [
    {
     "name": "stdout",
     "output_type": "stream",
     "text": [
      "\n",
      "7. Count of Small or Large Teams with human_gini <= 0.25: 89\n"
     ]
    }
   ],
   "source": [
    "count_gini_filtered = git_teams[\n",
    "    (git_teams[\"Team_size_class\"].isin([\"Small\", \"Large\"])) &\n",
    "    (git_teams[\"human_gini\"] <= 0.25)\n",
    "].shape[0]\n",
    "print(\"\\n7. Count of Small or Large Teams with human_gini <= 0.25:\", count_gini_filtered)"
   ]
  },
  {
   "cell_type": "markdown",
   "id": "2dd4639e-fa41-4821-b677-9af4946b8d4b",
   "metadata": {},
   "source": [
    "8. Count of human teams that are Medium"
   ]
  },
  {
   "cell_type": "code",
   "execution_count": 22,
   "id": "62c2012d-823e-49cd-a5e7-93cfbc96c567",
   "metadata": {},
   "outputs": [
    {
     "name": "stdout",
     "output_type": "stream",
     "text": [
      "\n",
      "8. Count of Medium Human Teams: 96\n"
     ]
    }
   ],
   "source": [
    "count_medium_human = git_teams[\n",
    "    (git_teams[\"Team_type\"] == \"human\") &\n",
    "    (git_teams[\"Team_size_class\"] == \"Medium\")\n",
    "].shape[0]\n",
    "print(\"\\n8. Count of Medium Human Teams:\", count_medium_human)"
   ]
  },
  {
   "cell_type": "markdown",
   "id": "2ab03780-77ad-4088-a95d-5b1647e2d844",
   "metadata": {},
   "source": [
    "9. New DataFrame with two columns"
   ]
  },
  {
   "cell_type": "code",
   "execution_count": 23,
   "id": "082025bf-1845-4efc-b672-cbd0faeaec17",
   "metadata": {},
   "outputs": [
    {
     "name": "stdout",
     "output_type": "stream",
     "text": [
      "\n",
      "9. DataFrame with Team_size_class and work_per_human:\n",
      "  Team_size_class  work_per_human\n",
      "0           Small       33.000000\n",
      "1           Small       31.000000\n",
      "2           Large       30.142857\n",
      "3           Large       62.303419\n",
      "4           Large       42.763158\n"
     ]
    }
   ],
   "source": [
    "git_teams_work_per_class = git_teams[[\"Team_size_class\", \"work_per_human\"]].copy()\n",
    "print(\"\\n9. DataFrame with Team_size_class and work_per_human:\")\n",
    "print(git_teams_work_per_class.head())"
   ]
  },
  {
   "cell_type": "markdown",
   "id": "4f38032f-5dde-4098-911d-1c440f040de6",
   "metadata": {},
   "source": [
    "10. Rename columns in a new DataFrame"
   ]
  },
  {
   "cell_type": "code",
   "execution_count": 24,
   "id": "47c38714-db41-4f45-ab4e-ba0593c97d18",
   "metadata": {},
   "outputs": [
    {
     "name": "stdout",
     "output_type": "stream",
     "text": [
      "\n",
      "10. Renamed Columns DataFrame:\n",
      "   work_inequality  issue_resolution_time\n",
      "0         0.287879                   87.0\n",
      "1         0.467742                    NaN\n",
      "2         0.499661                   37.0\n",
      "3         0.738342                    1.0\n",
      "4         0.666607                    2.0\n"
     ]
    }
   ],
   "source": [
    "git_teams_renamed = git_teams[[\"human_gini\", \"eval_survival_day_median\"]].rename(\n",
    "    columns={\n",
    "        \"human_gini\": \"work_inequality\",\n",
    "        \"eval_survival_day_median\": \"issue_resolution_time\"\n",
    "    }\n",
    ")\n",
    "print(\"\\n10. Renamed Columns DataFrame:\")\n",
    "print(git_teams_renamed.head())"
   ]
  }
 ],
 "metadata": {
  "kernelspec": {
   "display_name": "Python 3 (ipykernel)",
   "language": "python",
   "name": "python3"
  },
  "language_info": {
   "codemirror_mode": {
    "name": "ipython",
    "version": 3
   },
   "file_extension": ".py",
   "mimetype": "text/x-python",
   "name": "python",
   "nbconvert_exporter": "python",
   "pygments_lexer": "ipython3",
   "version": "3.13.2"
  }
 },
 "nbformat": 4,
 "nbformat_minor": 5
}
